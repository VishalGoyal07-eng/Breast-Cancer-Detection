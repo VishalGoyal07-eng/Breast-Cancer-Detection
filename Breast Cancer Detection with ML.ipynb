{
 "cells": [
  {
   "cell_type": "markdown",
   "metadata": {},
   "source": [
    "# In this project our aim is to predict whether the cancer is benign or malignant\n"
   ]
  },
  {
   "cell_type": "markdown",
   "metadata": {},
   "source": [
    "## Exploring the data"
   ]
  },
  {
   "cell_type": "code",
   "execution_count": 66,
   "metadata": {},
   "outputs": [],
   "source": [
    "# Import libraries necessary for this project\n",
    "import numpy as np\n",
    "import pandas as pd\n",
    "import matplotlib as plt\n",
    "\n",
    "%matplotlib inline\n",
    "from sklearn.preprocessing import MinMaxScaler\n",
    "from time import time\n",
    "from sklearn.metrics import accuracy_score\n",
    "from sklearn.metrics import fbeta_score\n",
    "import seaborn as sb"
   ]
  },
  {
   "cell_type": "code",
   "execution_count": 72,
   "metadata": {},
   "outputs": [
    {
     "name": "stdout",
     "output_type": "stream",
     "text": [
      "         id diagnosis  radius_mean  texture_mean  perimeter_mean  area_mean  \\\n",
      "0    842302         M        17.99         10.38          122.80     1001.0   \n",
      "1    842517         M        20.57         17.77          132.90     1326.0   \n",
      "2  84300903         M        19.69         21.25          130.00     1203.0   \n",
      "3  84348301         M        11.42         20.38           77.58      386.1   \n",
      "4  84358402         M        20.29         14.34          135.10     1297.0   \n",
      "\n",
      "   smoothness_mean  compactness_mean  concavity_mean  concave points_mean  \\\n",
      "0          0.11840           0.27760          0.3001              0.14710   \n",
      "1          0.08474           0.07864          0.0869              0.07017   \n",
      "2          0.10960           0.15990          0.1974              0.12790   \n",
      "3          0.14250           0.28390          0.2414              0.10520   \n",
      "4          0.10030           0.13280          0.1980              0.10430   \n",
      "\n",
      "   ...  texture_worst  perimeter_worst  area_worst  smoothness_worst  \\\n",
      "0  ...          17.33           184.60      2019.0            0.1622   \n",
      "1  ...          23.41           158.80      1956.0            0.1238   \n",
      "2  ...          25.53           152.50      1709.0            0.1444   \n",
      "3  ...          26.50            98.87       567.7            0.2098   \n",
      "4  ...          16.67           152.20      1575.0            0.1374   \n",
      "\n",
      "   compactness_worst  concavity_worst  concave points_worst  symmetry_worst  \\\n",
      "0             0.6656           0.7119                0.2654          0.4601   \n",
      "1             0.1866           0.2416                0.1860          0.2750   \n",
      "2             0.4245           0.4504                0.2430          0.3613   \n",
      "3             0.8663           0.6869                0.2575          0.6638   \n",
      "4             0.2050           0.4000                0.1625          0.2364   \n",
      "\n",
      "   fractal_dimension_worst  Unnamed: 32  \n",
      "0                  0.11890          NaN  \n",
      "1                  0.08902          NaN  \n",
      "2                  0.08758          NaN  \n",
      "3                  0.17300          NaN  \n",
      "4                  0.07678          NaN  \n",
      "\n",
      "[5 rows x 33 columns]\n"
     ]
    }
   ],
   "source": [
    "#Read the data\n",
    "data=pd.read_csv(\"datasets_180_408_data.csv\")\n",
    "print(data.head())"
   ]
  },
  {
   "cell_type": "code",
   "execution_count": 73,
   "metadata": {},
   "outputs": [
    {
     "name": "stdout",
     "output_type": "stream",
     "text": [
      "                 id  radius_mean  texture_mean  perimeter_mean    area_mean  \\\n",
      "count  5.690000e+02   569.000000    569.000000      569.000000   569.000000   \n",
      "mean   3.037183e+07    14.127292     19.289649       91.969033   654.889104   \n",
      "std    1.250206e+08     3.524049      4.301036       24.298981   351.914129   \n",
      "min    8.670000e+03     6.981000      9.710000       43.790000   143.500000   \n",
      "25%    8.692180e+05    11.700000     16.170000       75.170000   420.300000   \n",
      "50%    9.060240e+05    13.370000     18.840000       86.240000   551.100000   \n",
      "75%    8.813129e+06    15.780000     21.800000      104.100000   782.700000   \n",
      "max    9.113205e+08    28.110000     39.280000      188.500000  2501.000000   \n",
      "\n",
      "       smoothness_mean  compactness_mean  concavity_mean  concave points_mean  \\\n",
      "count       569.000000        569.000000      569.000000           569.000000   \n",
      "mean          0.096360          0.104341        0.088799             0.048919   \n",
      "std           0.014064          0.052813        0.079720             0.038803   \n",
      "min           0.052630          0.019380        0.000000             0.000000   \n",
      "25%           0.086370          0.064920        0.029560             0.020310   \n",
      "50%           0.095870          0.092630        0.061540             0.033500   \n",
      "75%           0.105300          0.130400        0.130700             0.074000   \n",
      "max           0.163400          0.345400        0.426800             0.201200   \n",
      "\n",
      "       symmetry_mean  ...  texture_worst  perimeter_worst   area_worst  \\\n",
      "count     569.000000  ...     569.000000       569.000000   569.000000   \n",
      "mean        0.181162  ...      25.677223       107.261213   880.583128   \n",
      "std         0.027414  ...       6.146258        33.602542   569.356993   \n",
      "min         0.106000  ...      12.020000        50.410000   185.200000   \n",
      "25%         0.161900  ...      21.080000        84.110000   515.300000   \n",
      "50%         0.179200  ...      25.410000        97.660000   686.500000   \n",
      "75%         0.195700  ...      29.720000       125.400000  1084.000000   \n",
      "max         0.304000  ...      49.540000       251.200000  4254.000000   \n",
      "\n",
      "       smoothness_worst  compactness_worst  concavity_worst  \\\n",
      "count        569.000000         569.000000       569.000000   \n",
      "mean           0.132369           0.254265         0.272188   \n",
      "std            0.022832           0.157336         0.208624   \n",
      "min            0.071170           0.027290         0.000000   \n",
      "25%            0.116600           0.147200         0.114500   \n",
      "50%            0.131300           0.211900         0.226700   \n",
      "75%            0.146000           0.339100         0.382900   \n",
      "max            0.222600           1.058000         1.252000   \n",
      "\n",
      "       concave points_worst  symmetry_worst  fractal_dimension_worst  \\\n",
      "count            569.000000      569.000000               569.000000   \n",
      "mean               0.114606        0.290076                 0.083946   \n",
      "std                0.065732        0.061867                 0.018061   \n",
      "min                0.000000        0.156500                 0.055040   \n",
      "25%                0.064930        0.250400                 0.071460   \n",
      "50%                0.099930        0.282200                 0.080040   \n",
      "75%                0.161400        0.317900                 0.092080   \n",
      "max                0.291000        0.663800                 0.207500   \n",
      "\n",
      "       Unnamed: 32  \n",
      "count          0.0  \n",
      "mean           NaN  \n",
      "std            NaN  \n",
      "min            NaN  \n",
      "25%            NaN  \n",
      "50%            NaN  \n",
      "75%            NaN  \n",
      "max            NaN  \n",
      "\n",
      "[8 rows x 32 columns]\n"
     ]
    }
   ],
   "source": [
    "print(data.describe())"
   ]
  },
  {
   "cell_type": "markdown",
   "metadata": {},
   "source": [
    "## Preparing The Data\n"
   ]
  },
  {
   "cell_type": "code",
   "execution_count": 74,
   "metadata": {},
   "outputs": [],
   "source": [
    "#Last column contain only Nan values and its not useful\n",
    "data.dropna(axis=1,inplace=True)\n",
    "#\"id\" column has nothing to do with breast cancer so we can remove it\n",
    "data.drop(\"id\",axis=1,inplace=True)"
   ]
  },
  {
   "cell_type": "code",
   "execution_count": 75,
   "metadata": {},
   "outputs": [
    {
     "name": "stdout",
     "output_type": "stream",
     "text": [
      "0      1\n",
      "1      1\n",
      "2      1\n",
      "3      1\n",
      "4      1\n",
      "      ..\n",
      "564    1\n",
      "565    1\n",
      "566    1\n",
      "567    1\n",
      "568    0\n",
      "Name: diagnosis, Length: 569, dtype: int64\n"
     ]
    }
   ],
   "source": [
    "# Diagonis is what we need to predict i.e. whether cancer is  benign or malignant so we need to remove this from input coluumn and put in output\n",
    "diagnosis_raw=data[\"diagnosis\"]\n",
    "# we need to change this into 0 and 1 target label,malignant is taken as 1 and benign is taken as 0\n",
    "output=diagnosis_raw.apply(lambda x:1 if (x==\"M\") else 0)\n",
    "print(output)\n",
    "df=data.drop(\"diagnosis\",axis=1)"
   ]
  },
  {
   "cell_type": "code",
   "execution_count": 78,
   "metadata": {},
   "outputs": [
    {
     "name": "stdout",
     "output_type": "stream",
     "text": [
      "(569, 30)\n"
     ]
    }
   ],
   "source": [
    "print(df.shape)"
   ]
  },
  {
   "cell_type": "markdown",
   "metadata": {},
   "source": [
    "## Transforming Skewed Continuous Features"
   ]
  },
  {
   "cell_type": "code",
   "execution_count": 79,
   "metadata": {
    "scrolled": true
   },
   "outputs": [
    {
     "data": {
      "text/plain": [
       "array([[<matplotlib.axes._subplots.AxesSubplot object at 0x000001F426F16688>,\n",
       "        <matplotlib.axes._subplots.AxesSubplot object at 0x000001F424D49D48>,\n",
       "        <matplotlib.axes._subplots.AxesSubplot object at 0x000001F426F3B7C8>,\n",
       "        <matplotlib.axes._subplots.AxesSubplot object at 0x000001F426F65948>,\n",
       "        <matplotlib.axes._subplots.AxesSubplot object at 0x000001F426F94548>],\n",
       "       [<matplotlib.axes._subplots.AxesSubplot object at 0x000001F426FCF188>,\n",
       "        <matplotlib.axes._subplots.AxesSubplot object at 0x000001F427007248>,\n",
       "        <matplotlib.axes._subplots.AxesSubplot object at 0x000001F427040348>,\n",
       "        <matplotlib.axes._subplots.AxesSubplot object at 0x000001F427046EC8>,\n",
       "        <matplotlib.axes._subplots.AxesSubplot object at 0x000001F427084108>],\n",
       "       [<matplotlib.axes._subplots.AxesSubplot object at 0x000001F4270EB648>,\n",
       "        <matplotlib.axes._subplots.AxesSubplot object at 0x000001F427127E88>,\n",
       "        <matplotlib.axes._subplots.AxesSubplot object at 0x000001F42715B808>,\n",
       "        <matplotlib.axes._subplots.AxesSubplot object at 0x000001F427193908>,\n",
       "        <matplotlib.axes._subplots.AxesSubplot object at 0x000001F4271CBA08>],\n",
       "       [<matplotlib.axes._subplots.AxesSubplot object at 0x000001F427203AC8>,\n",
       "        <matplotlib.axes._subplots.AxesSubplot object at 0x000001F42723BBC8>,\n",
       "        <matplotlib.axes._subplots.AxesSubplot object at 0x000001F427274CC8>,\n",
       "        <matplotlib.axes._subplots.AxesSubplot object at 0x000001F4272ACE08>,\n",
       "        <matplotlib.axes._subplots.AxesSubplot object at 0x000001F4272E5F08>],\n",
       "       [<matplotlib.axes._subplots.AxesSubplot object at 0x000001F42731CFC8>,\n",
       "        <matplotlib.axes._subplots.AxesSubplot object at 0x000001F42735A148>,\n",
       "        <matplotlib.axes._subplots.AxesSubplot object at 0x000001F427392248>,\n",
       "        <matplotlib.axes._subplots.AxesSubplot object at 0x000001F4273CD348>,\n",
       "        <matplotlib.axes._subplots.AxesSubplot object at 0x000001F427404488>],\n",
       "       [<matplotlib.axes._subplots.AxesSubplot object at 0x000001F42743E5C8>,\n",
       "        <matplotlib.axes._subplots.AxesSubplot object at 0x000001F427474608>,\n",
       "        <matplotlib.axes._subplots.AxesSubplot object at 0x000001F4274B0708>,\n",
       "        <matplotlib.axes._subplots.AxesSubplot object at 0x000001F4274E7848>,\n",
       "        <matplotlib.axes._subplots.AxesSubplot object at 0x000001F427521948>]],\n",
       "      dtype=object)"
      ]
     },
     "execution_count": 79,
     "metadata": {},
     "output_type": "execute_result"
    },
    {
     "data": {
      "image/png": "[encoded data removed]",
      "text/plain": [
       "<Figure size 2160x2160 with 30 Axes>"
      ]
     },
     "metadata": {
      "needs_background": "light"
     },
     "output_type": "display_data"
    }
   ],
   "source": [
    "#Checking the skewness of columns by visualising through histogram\n",
    "df.hist(figsize=(30,30))\n"
   ]
  },
  {
   "cell_type": "code",
   "execution_count": 80,
   "metadata": {},
   "outputs": [
    {
     "data": {
      "text/plain": [
       "radius_mean                0.942380\n",
       "texture_mean               0.650450\n",
       "perimeter_mean             0.990650\n",
       "area_mean                  1.645732\n",
       "smoothness_mean            0.456324\n",
       "compactness_mean           1.190123\n",
       "concavity_mean             1.401180\n",
       "concave points_mean        1.171180\n",
       "symmetry_mean              0.725609\n",
       "fractal_dimension_mean     1.304489\n",
       "radius_se                  3.088612\n",
       "texture_se                 1.646444\n",
       "perimeter_se               3.443615\n",
       "area_se                    5.447186\n",
       "smoothness_se              2.314450\n",
       "compactness_se             1.902221\n",
       "concavity_se               5.110463\n",
       "concave points_se          1.444678\n",
       "symmetry_se                2.195133\n",
       "fractal_dimension_se       3.923969\n",
       "radius_worst               1.103115\n",
       "texture_worst              0.498321\n",
       "perimeter_worst            1.128164\n",
       "area_worst                 1.859373\n",
       "smoothness_worst           0.415426\n",
       "compactness_worst          1.473555\n",
       "concavity_worst            1.150237\n",
       "concave points_worst       0.492616\n",
       "symmetry_worst             1.433928\n",
       "fractal_dimension_worst    1.662579\n",
       "dtype: float64"
      ]
     },
     "execution_count": 80,
     "metadata": {},
     "output_type": "execute_result"
    }
   ],
   "source": [
    "# Checking skewness values\n",
    "df.skew()\n"
   ]
  },
  {
   "cell_type": "code",
   "execution_count": 81,
   "metadata": {},
   "outputs": [
    {
     "name": "stdout",
     "output_type": "stream",
     "text": [
      "1.645732175624044 area_mean\n",
      "3.0886121663847503 radius_se\n",
      "1.6464438087530515 texture_se\n",
      "3.443615202194907 perimeter_se\n",
      "5.447186284898409 area_se\n",
      "2.3144500566367534 smoothness_se\n",
      "1.902220709637862 compactness_se\n",
      "5.110463049043674 concavity_se\n",
      "2.1951328995478185 symmetry_se\n",
      "3.9239686202274204 fractal_dimension_se\n",
      "1.8593732724433474 area_worst\n",
      "1.6625792663955266 fractal_dimension_worst\n"
     ]
    }
   ],
   "source": [
    "# 1.5 skewness is taken as threshold skewness so that skewness from columns haveing skewness greater than 1.5 is removed\n",
    "skewed_column=[]\n",
    "for i in range(len(df.skew())):\n",
    "    if df.skew()[i]>1.5:    \n",
    "      print(df.skew()[i],df.skew().index[i])\n",
    "      skewed_column.append(df.skew().index[i])"
   ]
  },
  {
   "cell_type": "code",
   "execution_count": 82,
   "metadata": {},
   "outputs": [
    {
     "name": "stdout",
     "output_type": "stream",
     "text": [
      "radius_mean                0.942380\n",
      "texture_mean               0.650450\n",
      "perimeter_mean             0.990650\n",
      "area_mean                  0.287328\n",
      "smoothness_mean            0.456324\n",
      "compactness_mean           1.190123\n",
      "concavity_mean             1.401180\n",
      "concave points_mean        1.171180\n",
      "symmetry_mean              0.725609\n",
      "fractal_dimension_mean     1.304489\n",
      "radius_se                  1.713417\n",
      "texture_se                 0.629526\n",
      "perimeter_se               1.025375\n",
      "area_se                    0.847298\n",
      "smoothness_se              2.283394\n",
      "compactness_se             1.816278\n",
      "concavity_se               4.231738\n",
      "concave points_se          1.444678\n",
      "symmetry_se                2.135874\n",
      "fractal_dimension_se       3.874373\n",
      "radius_worst               1.103115\n",
      "texture_worst              0.498321\n",
      "perimeter_worst            1.128164\n",
      "area_worst                 0.457614\n",
      "smoothness_worst           0.415426\n",
      "compactness_worst          1.473555\n",
      "concavity_worst            1.150237\n",
      "concave points_worst       0.492616\n",
      "symmetry_worst             1.433928\n",
      "fractal_dimension_worst    1.558559\n",
      "dtype: float64\n"
     ]
    }
   ],
   "source": [
    "# Log-transform the skewed features\n",
    "df[skewed_column] = df[skewed_column].apply(lambda x: np.log(x + 1))\n",
    "print(df.skew())"
   ]
  },
  {
   "cell_type": "markdown",
   "metadata": {},
   "source": [
    "## Normalising Numerical Features of Data"
   ]
  },
  {
   "cell_type": "code",
   "execution_count": 83,
   "metadata": {},
   "outputs": [],
   "source": [
    "scaler = MinMaxScaler() # default=(0, 1)\n",
    "columns = df.columns\n",
    "df[columns]=scaler.fit_transform(df[columns])"
   ]
  },
  {
   "cell_type": "code",
   "execution_count": 84,
   "metadata": {},
   "outputs": [
    {
     "name": "stdout",
     "output_type": "stream",
     "text": [
      "       radius_mean  texture_mean  perimeter_mean   area_mean  smoothness_mean  \\\n",
      "count   569.000000    569.000000      569.000000  569.000000       569.000000   \n",
      "mean      0.338222      0.323965        0.332935    0.488093         0.394785   \n",
      "std       0.166787      0.145453        0.167915    0.169126         0.126967   \n",
      "min       0.000000      0.000000        0.000000    0.000000         0.000000   \n",
      "25%       0.223342      0.218465        0.216847    0.375255         0.304595   \n",
      "50%       0.302381      0.308759        0.293345    0.470075         0.390358   \n",
      "75%       0.416442      0.408860        0.416765    0.592919         0.475490   \n",
      "max       1.000000      1.000000        1.000000    1.000000         1.000000   \n",
      "\n",
      "       compactness_mean  concavity_mean  concave points_mean  symmetry_mean  \\\n",
      "count        569.000000      569.000000           569.000000     569.000000   \n",
      "mean           0.260601        0.208058             0.243137       0.379605   \n",
      "std            0.161992        0.186785             0.192857       0.138456   \n",
      "min            0.000000        0.000000             0.000000       0.000000   \n",
      "25%            0.139685        0.069260             0.100944       0.282323   \n",
      "50%            0.224679        0.144189             0.166501       0.369697   \n",
      "75%            0.340531        0.306232             0.367793       0.453030   \n",
      "max            1.000000        1.000000             1.000000       1.000000   \n",
      "\n",
      "       fractal_dimension_mean  ...  radius_worst  texture_worst  \\\n",
      "count              569.000000  ...    569.000000     569.000000   \n",
      "mean                 0.270379  ...      0.296663       0.363998   \n",
      "std                  0.148702  ...      0.171940       0.163813   \n",
      "min                  0.000000  ...      0.000000       0.000000   \n",
      "25%                  0.163016  ...      0.180719       0.241471   \n",
      "50%                  0.243892  ...      0.250445       0.356876   \n",
      "75%                  0.340354  ...      0.386339       0.471748   \n",
      "max                  1.000000  ...      1.000000       1.000000   \n",
      "\n",
      "       perimeter_worst  area_worst  smoothness_worst  compactness_worst  \\\n",
      "count       569.000000  569.000000        569.000000         569.000000   \n",
      "mean          0.283138    0.444396          0.404138           0.220212   \n",
      "std           0.167352    0.177107          0.150779           0.152649   \n",
      "min           0.000000    0.000000          0.000000           0.000000   \n",
      "25%           0.167837    0.325937          0.300007           0.116337   \n",
      "50%           0.235320    0.417459          0.397081           0.179110   \n",
      "75%           0.373475    0.563278          0.494156           0.302520   \n",
      "max           1.000000    1.000000          1.000000           1.000000   \n",
      "\n",
      "       concavity_worst  concave points_worst  symmetry_worst  \\\n",
      "count       569.000000            569.000000      569.000000   \n",
      "mean          0.217403              0.393836        0.263307   \n",
      "std           0.166633              0.225884        0.121954   \n",
      "min           0.000000              0.000000        0.000000   \n",
      "25%           0.091454              0.223127        0.185098   \n",
      "50%           0.181070              0.343402        0.247782   \n",
      "75%           0.305831              0.554639        0.318155   \n",
      "max           1.000000              1.000000        1.000000   \n",
      "\n",
      "       fractal_dimension_worst  \n",
      "count               569.000000  \n",
      "mean                  0.199247  \n",
      "std                   0.121852  \n",
      "min                   0.000000  \n",
      "25%                   0.114419  \n",
      "50%                   0.173511  \n",
      "75%                   0.255646  \n",
      "max                   1.000000  \n",
      "\n",
      "[8 rows x 30 columns]\n"
     ]
    }
   ],
   "source": [
    "# look at the data after all pre-processing steps\n",
    "print(df.describe())"
   ]
  },
  {
   "cell_type": "markdown",
   "metadata": {},
   "source": [
    "## Shuffle and Split Data"
   ]
  },
  {
   "cell_type": "code",
   "execution_count": 85,
   "metadata": {},
   "outputs": [
    {
     "name": "stdout",
     "output_type": "stream",
     "text": [
      "Training set has 455 samples.\n",
      "Testing set has 114 samples.\n"
     ]
    }
   ],
   "source": [
    "\n",
    "from sklearn.model_selection import train_test_split\n",
    "\n",
    "# Split the 'features' and 'income' data into training and testing sets\n",
    "X_train, X_test, y_train, y_test = train_test_split(df, \n",
    "                                                    output,\n",
    "                                                    test_size = 0.2, \n",
    "                                                    random_state = 0)\n",
    "\n",
    "# Show the results of the split\n",
    "print(\"Training set has {} samples.\".format(X_train.shape[0]))\n",
    "print(\"Testing set has {} samples.\".format(X_test.shape[0]))"
   ]
  },
  {
   "cell_type": "markdown",
   "metadata": {},
   "source": [
    "## Evaluating Model Performance"
   ]
  },
  {
   "cell_type": "markdown",
   "metadata": {},
   "source": [
    "## Implementation - Creating a Training and Predicting Pipelines"
   ]
  },
  {
   "cell_type": "code",
   "execution_count": 86,
   "metadata": {},
   "outputs": [],
   "source": [
    "# beta value taken is higer as higher recall is the requirement of data\n",
    "def train_predict(learner,X_train, y_train, X_test, y_test):\n",
    "    results={}\n",
    "    start=time()\n",
    "    learner = learner.fit(X_train,y_train)\n",
    "    end = time()\n",
    "    results['train_time'] = end-start\n",
    "    start = time() # Get start time\n",
    "    predictions_train=learner.predict(X_train)\n",
    "    predictions_test = learner.predict(X_test)\n",
    "    end = time() \n",
    "    results['prediction_time']=end-start\n",
    "    results['train_accuracy'] = accuracy_score(y_train,predictions_train)\n",
    "    results['test_accuracy'] = accuracy_score(y_test,predictions_test)\n",
    "    results['f_score']=fbeta_score(y_test,predictions_test, beta=2)\n",
    "    return results"
   ]
  },
  {
   "cell_type": "markdown",
   "metadata": {},
   "source": [
    "## Implementation: Initial Model Evaluation"
   ]
  },
  {
   "cell_type": "code",
   "execution_count": 87,
   "metadata": {},
   "outputs": [
    {
     "name": "stdout",
     "output_type": "stream",
     "text": [
      "DecisionTreeClassifier {'train_time': 0.016953706741333008, 'prediction_time': 0.003990888595581055, 'train_accuracy': 1.0, 'test_accuracy': 0.9122807017543859, 'f_score': 0.9205020920502094}\n",
      "AdaBoostClassifier {'train_time': 0.20245671272277832, 'prediction_time': 0.030917644500732422, 'train_accuracy': 1.0, 'test_accuracy': 0.956140350877193, 'f_score': 0.9401709401709403}\n",
      "SVC {'train_time': 0.004985809326171875, 'prediction_time': 0.004988908767700195, 'train_accuracy': 0.9868131868131869, 'test_accuracy': 0.9649122807017544, 'f_score': 0.9574468085106385}\n"
     ]
    }
   ],
   "source": [
    "from sklearn.tree import DecisionTreeClassifier\n",
    "from sklearn.ensemble import AdaBoostClassifier\n",
    "from sklearn.svm import SVC\n",
    "model_A = DecisionTreeClassifier()\n",
    "model_B = AdaBoostClassifier()\n",
    "model_C = SVC()\n",
    "print(\"DecisionTreeClassifier\",train_predict(model_A,X_train, y_train, X_test, y_test))\n",
    "print(\"AdaBoostClassifier\",train_predict(model_B,X_train, y_train, X_test, y_test))\n",
    "print(\"SVC\",train_predict(model_C,X_train, y_train, X_test, y_test))\n"
   ]
  },
  {
   "cell_type": "markdown",
   "metadata": {},
   "source": [
    "## Choosing The best Model"
   ]
  },
  {
   "cell_type": "markdown",
   "metadata": {},
   "source": [
    "Out of Above three models, Time taken by SVC is least and accuracy and f_score are highest for test samples, hence its SVC is the best to use"
   ]
  },
  {
   "cell_type": "markdown",
   "metadata": {},
   "source": [
    "## Implementation: Model Tuning"
   ]
  },
  {
   "cell_type": "code",
   "execution_count": 88,
   "metadata": {},
   "outputs": [
    {
     "name": "stdout",
     "output_type": "stream",
     "text": [
      "          train_time  prediction_time  train_accuracy  test_accuracy   f_score\n",
      "0.00001     0.015957         0.014958        0.637363       0.587719  0.000000\n",
      "0.50000     0.005990         0.005979        0.975824       0.973684  0.961538\n",
      "1.00000     0.003989         0.005985        0.986813       0.964912  0.957447\n",
      "2.00000     0.004986         0.004987        0.986813       0.964912  0.957447\n",
      "5.00000     0.007967         0.007979        0.991209       0.973684  0.961538\n",
      "10.00000    0.013947         0.009972        0.993407       0.938596  0.932203\n"
     ]
    }
   ],
   "source": [
    "#Using Rbf Kernel\n",
    "results_rbf=[]\n",
    "gamma=[0.00001,0.5,1,2,5,10]\n",
    "for i in range(len(gamma)):\n",
    "    model=SVC(kernel='rbf',gamma=gamma[i])\n",
    "    result_rbf=train_predict(model,X_train, y_train, X_test, y_test)\n",
    "    results_rbf.append(result_rbf)\n",
    "X=pd.DataFrame(results_rbf,index=gamma)\n",
    "print(X)"
   ]
  },
  {
   "cell_type": "markdown",
   "metadata": {},
   "source": [
    "When kernel selected is Rbf, it can be seen that accuracy and precision of test increases as gamma value increases,but after a limit test accuracy start reducing due to overfitting. From the above results, it can be concluded that gamma=0.5 takes lesser time and give better accuracy and f_score values."
   ]
  },
  {
   "cell_type": "code",
   "execution_count": 89,
   "metadata": {},
   "outputs": [
    {
     "name": "stdout",
     "output_type": "stream",
     "text": [
      "   train_time  prediction_time  train_accuracy  test_accuracy   f_score\n",
      "1    0.006981         0.006016        0.978022       0.964912  0.944206\n",
      "2    0.004987         0.003988        0.989011       0.973684  0.974576\n",
      "3    0.002997         0.003958        0.989011       0.973684  0.974576\n",
      "4    0.004017         0.002994        0.993407       0.956140  0.966387\n",
      "5    0.006950         0.001994        0.997802       0.929825  0.941423\n"
     ]
    }
   ],
   "source": [
    "#Using polykernel\n",
    "degree=[1,2,3,4,5]\n",
    "results_poly=[]\n",
    "for i in range(len(degree)):\n",
    "    model=SVC(kernel='poly',degree=degree[i])\n",
    "    result_poly=train_predict(model,X_train, y_train, X_test, y_test)\n",
    "    results_poly.append(result_poly)\n",
    "X=pd.DataFrame(results_poly,index=degree)\n",
    "print(X)\n"
   ]
  },
  {
   "cell_type": "markdown",
   "metadata": {},
   "source": [
    "When kernel is polynomial, Similar to Rbf it can be seen that as degree increases test accuracy increase only upto certain value as it tends to overfitting later. From the above results it can be concluded that degree 3 is best fit for this data, as time taken is lesser as well as accuracy, f_score is high"
   ]
  },
  {
   "cell_type": "markdown",
   "metadata": {},
   "source": [
    "## Conclusion: SVC Model is best to use for data, If kernel used is Rbf then gamma =0.5 gives best result, while if kernel used is polynomial then degree=3 gives best result as both achieve almost 97% test accuracy and 96% F_Score"
   ]
  },
  {
   "cell_type": "markdown",
   "metadata": {},
   "source": [
    "## Feature Selection"
   ]
  },
  {
   "cell_type": "markdown",
   "metadata": {},
   "source": [
    "As SVC model does not have feature selection so lets use adaboost classifier for feature selection"
   ]
  },
  {
   "cell_type": "code",
   "execution_count": 90,
   "metadata": {},
   "outputs": [
    {
     "name": "stdout",
     "output_type": "stream",
     "text": [
      "radius_mean 0.0\n",
      "texture_mean 0.08\n",
      "perimeter_mean 0.0\n",
      "area_mean 0.0\n",
      "smoothness_mean 0.04\n",
      "compactness_mean 0.06\n",
      "concavity_mean 0.02\n",
      "concave points_mean 0.06\n",
      "symmetry_mean 0.02\n",
      "fractal_dimension_mean 0.0\n",
      "radius_se 0.0\n",
      "texture_se 0.04\n",
      "perimeter_se 0.04\n",
      "area_se 0.1\n",
      "smoothness_se 0.0\n",
      "compactness_se 0.04\n",
      "concavity_se 0.02\n",
      "concave points_se 0.0\n",
      "symmetry_se 0.02\n",
      "fractal_dimension_se 0.06\n",
      "radius_worst 0.02\n",
      "texture_worst 0.06\n",
      "perimeter_worst 0.02\n",
      "area_worst 0.1\n",
      "smoothness_worst 0.04\n",
      "compactness_worst 0.0\n",
      "concavity_worst 0.06\n",
      "concave points_worst 0.06\n",
      "symmetry_worst 0.02\n",
      "fractal_dimension_worst 0.02\n"
     ]
    }
   ],
   "source": [
    "model = AdaBoostClassifier().fit(X_train,y_train)\n",
    "\n",
    "# TODO: Extract the feature importances using .feature_importances_ \n",
    "importance = model.feature_importances_\n",
    "for i,j in enumerate(importance):\n",
    "    print(X_train.columns[i],j)"
   ]
  },
  {
   "cell_type": "markdown",
   "metadata": {},
   "source": [
    "As SVC model does not have feature selection so lets use adaboost classifier for feature selection"
   ]
  },
  {
   "cell_type": "markdown",
   "metadata": {},
   "source": [
    "From the above results two feature which have maximum weights are area_se and area_worst of cell_nucleus"
   ]
  },
  {
   "cell_type": "markdown",
   "metadata": {},
   "source": [
    "## Analysis for area_se feature"
   ]
  },
  {
   "cell_type": "markdown",
   "metadata": {},
   "source": [
    "Lets plot a violinplot to understand threshold value of area_se which predict Belign and Malignant cancer"
   ]
  },
  {
   "cell_type": "code",
   "execution_count": 124,
   "metadata": {},
   "outputs": [
    {
     "data": {
      "text/plain": [
       "<matplotlib.axes._subplots.AxesSubplot at 0x1f427eb4ac8>"
      ]
     },
     "execution_count": 124,
     "metadata": {},
     "output_type": "execute_result"
    },
    {
     "data": {
      "image/png": "[encoded data removed]",
      "text/plain": [
       "<Figure size 432x288 with 1 Axes>"
      ]
     },
     "metadata": {
      "needs_background": "light"
     },
     "output_type": "display_data"
    }
   ],
   "source": [
    "sb.violinplot(data=data,x=data['diagnosis'],y=data[\"area_se\"],inner=None, color=sb.color_palette()[0])"
   ]
  },
  {
   "cell_type": "markdown",
   "metadata": {},
   "source": [
    "It can be seen lower area_se is for benign cancer while Higher area_se is for malignant cancer"
   ]
  },
  {
   "cell_type": "code",
   "execution_count": 140,
   "metadata": {},
   "outputs": [
    {
     "name": "stdout",
     "output_type": "stream",
     "text": [
      "                      % people having Malignant\n",
      "area_se greater than                           \n",
      "7                                     37.323944\n",
      "9                                     37.857143\n",
      "11                                    38.899083\n",
      "13                                    41.245136\n",
      "15                                    43.478261\n",
      "17                                    46.860987\n",
      "19                                    51.629073\n",
      "21                                    58.309038\n",
      "23                                    62.700965\n",
      "25                                    67.509025\n",
      "27                                    71.764706\n",
      "29                                    77.489177\n",
      "31                                    82.325581\n",
      "33                                    84.500000\n",
      "35                                    88.524590\n",
      "37                                    89.080460\n",
      "39                                    90.532544\n",
      "41                                    91.875000\n",
      "43                                    92.903226\n",
      "45                                    94.405594\n",
      "47                                    94.852941\n",
      "49                                    96.153846\n",
      "51                                    98.360656\n",
      "53                                    98.305085\n",
      "55                                    99.099099\n",
      "57                                    99.090909\n",
      "59                                    99.047619\n",
      "61                                    99.009901\n",
      "63                                    99.000000\n",
      "65                                    98.979592\n",
      "67                                    98.969072\n",
      "69                                    98.863636\n"
     ]
    }
   ],
   "source": [
    "#Check how much percentage of people having benign cancer above certain area_se value\n",
    "Malignant_analysis=[]\n",
    "for i in range(7,70,2):\n",
    "    Malignant_analysis.append(np.sum((data[\"area_se\"]>=i) & (data['diagnosis']=='M'))/np.sum(data['area_se']>=i)*100)\n",
    "X=pd.DataFrame(Malignant_analysis,columns=['% people having Malignant'])\n",
    "X['area_se greater than']=np.arange(7,70,2)\n",
    "X.set_index('area_se greater than',inplace=True)\n",
    "print(X)"
   ]
  },
  {
   "cell_type": "code",
   "execution_count": 108,
   "metadata": {},
   "outputs": [
    {
     "name": "stdout",
     "output_type": "stream",
     "text": [
      "                    % people having Benign\n",
      "area_se lower than                        \n",
      "7                               100.000000\n",
      "9                               100.000000\n",
      "11                              100.000000\n",
      "13                              100.000000\n",
      "15                               97.674419\n",
      "17                               97.560976\n",
      "19                               96.470588\n",
      "21                               94.690265\n",
      "23                               93.410853\n",
      "25                               91.438356\n",
      "27                               90.764331\n",
      "29                               90.236686\n",
      "31                               89.859155\n",
      "33                               88.378378\n",
      "35                               87.046632\n",
      "37                               85.569620\n",
      "39                               85.250000\n",
      "41                               83.902439\n",
      "43                               83.574879\n",
      "45                               81.924883\n",
      "47                               80.831409\n",
      "49                               80.000000\n",
      "51                               79.418345\n",
      "53                               78.713969\n",
      "55                               77.729258\n",
      "57                               77.559913\n",
      "59                               76.724138\n",
      "61                               76.068376\n",
      "63                               75.906183\n",
      "65                               75.583864\n",
      "67                               75.423729\n",
      "69                               74.012474\n"
     ]
    }
   ],
   "source": [
    "#Check how much percentage of people having benign cancer below certain area_se value\n",
    "Benign_analysis=[]\n",
    "for i in range(7,70,2):\n",
    "    Benign_analysis.append(np.sum((data[\"area_se\"]<=i) & (data['diagnosis']=='B'))/np.sum(data['area_se']<=i)*100)\n",
    "X=pd.DataFrame(Benign_analysis,columns=['% people having Benign'])\n",
    "X['area_se lower than']=np.arange(7,70,2)\n",
    "X.set_index('area_se lower than',inplace=True)\n",
    "print(X)"
   ]
  },
  {
   "cell_type": "markdown",
   "metadata": {},
   "source": [
    "## From the above analysis ,it can be concluded that almost 96% of people having area_se greater than or equal to 49 have Malignant cancer and 97% of the people having area_se less than or equal to 17 have Benign cancer"
   ]
  },
  {
   "cell_type": "markdown",
   "metadata": {},
   "source": [
    "## Analysis for area_worst feature"
   ]
  },
  {
   "cell_type": "markdown",
   "metadata": {},
   "source": [
    "Lets plot a violinplot to understand threshold value of area_worst which predict Belign and Malignant cancer"
   ]
  },
  {
   "cell_type": "code",
   "execution_count": 112,
   "metadata": {},
   "outputs": [
    {
     "data": {
      "text/plain": [
       "<matplotlib.axes._subplots.AxesSubplot at 0x1f427f8f388>"
      ]
     },
     "execution_count": 112,
     "metadata": {},
     "output_type": "execute_result"
    },
    {
     "data": {
      "image/png": "[encoded data removed]",
      "text/plain": [
       "<Figure size 432x288 with 1 Axes>"
      ]
     },
     "metadata": {
      "needs_background": "light"
     },
     "output_type": "display_data"
    }
   ],
   "source": [
    "sb.violinplot(data=data,x=data['diagnosis'],y=data[\"area_worst\"],inner=None, color=sb.color_palette()[0])"
   ]
  },
  {
   "cell_type": "code",
   "execution_count": 113,
   "metadata": {},
   "outputs": [
    {
     "name": "stdout",
     "output_type": "stream",
     "text": [
      "                         % people having Malignant\n",
      "area_worst greater than                           \n",
      "50                                       37.258348\n",
      "75                                       37.258348\n",
      "100                                      37.258348\n",
      "125                                      37.258348\n",
      "150                                      37.258348\n",
      "175                                      37.258348\n",
      "200                                      37.323944\n",
      "225                                      37.389771\n",
      "250                                      37.655417\n",
      "275                                      37.992832\n",
      "300                                      38.405797\n",
      "325                                      38.970588\n",
      "350                                      39.626168\n",
      "375                                      40.769231\n",
      "400                                      42.063492\n",
      "425                                      43.002028\n",
      "450                                      44.258873\n",
      "475                                      46.389497\n",
      "500                                      48.291572\n",
      "525                                      50.847458\n",
      "550                                      54.687500\n",
      "575                                      57.458564\n",
      "600                                      60.703812\n",
      "625                                      64.687500\n",
      "650                                      68.092105\n",
      "675                                      70.547945\n",
      "700                                      74.725275\n",
      "725                                      78.294574\n",
      "750                                      81.742739\n",
      "775                                      83.842795\n",
      "800                                      85.067873\n",
      "825                                      88.461538\n",
      "850                                      91.709845\n",
      "875                                      95.135135\n",
      "900                                      95.530726\n",
      "925                                      96.511628\n",
      "950                                      98.170732\n",
      "975                                      98.125000\n"
     ]
    }
   ],
   "source": [
    "#Check how much percentage of people having malignant cancer above certain area_worst value\n",
    "Malignant_analysis=[]\n",
    "for i in range(50,1000,25):\n",
    "    Malignant_analysis.append(np.sum((data[\"area_worst\"]>=i) & (data['diagnosis']=='M'))/np.sum(data['area_worst']>=i)*100)\n",
    "X=pd.DataFrame(Malignant_analysis,columns=['% people having Malignant'])\n",
    "X['area_worst greater than']=np.arange(50,1000,25)\n",
    "X.set_index('area_worst greater than',inplace=True)\n",
    "print(X)"
   ]
  },
  {
   "cell_type": "code",
   "execution_count": 122,
   "metadata": {},
   "outputs": [
    {
     "name": "stdout",
     "output_type": "stream",
     "text": [
      "                       % people having Benign\n",
      "area_worst lower than                        \n",
      "200                                100.000000\n",
      "250                                100.000000\n",
      "300                                100.000000\n",
      "350                                100.000000\n",
      "400                                100.000000\n",
      "450                                100.000000\n",
      "500                                100.000000\n",
      "550                                 98.918919\n",
      "600                                 97.807018\n",
      "650                                 98.113208\n",
      "700                                 97.297297\n",
      "750                                 95.440729\n",
      "800                                 93.103448\n",
      "850                                 90.691489\n",
      "900                                 89.487179\n",
      "950                                 87.407407\n",
      "1000                                85.096154\n",
      "1050                                83.764706\n"
     ]
    }
   ],
   "source": [
    "#Check how much percentage of people having benign cancer below certain area_worst value\n",
    "Benign_analysis=[]\n",
    "for i in range(200,1100,50):\n",
    "    Benign_analysis.append(np.sum((data[\"area_worst\"]<=i) & (data['diagnosis']=='B'))/np.sum(data['area_worst']<=i)*100)\n",
    "X=pd.DataFrame(Benign_analysis,columns=['% people having Benign'])\n",
    "X['area_worst lower than']=np.arange(200,1100,50)\n",
    "X.set_index('area_worst lower than',inplace=True)\n",
    "print(X)"
   ]
  },
  {
   "cell_type": "markdown",
   "metadata": {},
   "source": [
    "## From the above analysis ,it can be concluded that almost 98% of people having area_worst greater than or equal to 950 have Malignant cancer and 98% of the people having area_worst lesser than or equal to 650 have Benign cancer"
   ]
  }
 ],
 "metadata": {
  "kernelspec": {
   "display_name": "Python [conda env:root] *",
   "language": "python",
   "name": "conda-root-py"
  },
  "language_info": {
   "codemirror_mode": {
    "name": "ipython",
    "version": 3
   },
   "file_extension": ".py",
   "mimetype": "text/x-python",
   "name": "python",
   "nbconvert_exporter": "python",
   "pygments_lexer": "ipython3",
   "version": "3.7.7"
  }
 },
 "nbformat": 4,
 "nbformat_minor": 4
}
